{
 "cells": [
  {
   "cell_type": "markdown",
   "metadata": {},
   "source": [
    "正则表达式，又称规则表达式（英语：Regular Expression，在代码中常简写为 RegEx、RegExp 或 RE），是计算机科学的一个概念。正则表达式通常被用来检索、替换那些符合某个模式（规则）的文本。\n",
    "\n",
    "正则表达式这个概念最初是由 Unix 中的工具软件（例如 sed 和 grep ）普及开的。\n",
    "\n",
    "正则表达式的功能：\n",
    "\n",
    "- 匹配\n",
    "- 替换"
   ]
  },
  {
   "cell_type": "markdown",
   "metadata": {},
   "source": [
    "收藏帖子如下:\n",
    "[正则表达式语法](https://blog.csdn.net/JankinChan/article/details/88780054)"
   ]
  },
  {
   "cell_type": "markdown",
   "metadata": {},
   "source": [
    "## regular expression 语法符号部分\n",
    "~~~\n",
    "^      start\n",
    "$      stop\n",
    ".      Any character\n",
    "*      match one character 0+times\n",
    "+      match one character 1+times\n",
    "?      non-greedy\n",
    "\\s     whitespace\n",
    "\\S     non-whitespace 不含空格\n",
    "[abc]  match one character in the specified set\n",
    "[^abc] match one character not in the specified set\n",
    "~~~"
   ]
  },
  {
   "cell_type": "markdown",
   "metadata": {},
   "source": [
    "### 一个str的n中正则表达式查找"
   ]
  },
  {
   "cell_type": "code",
   "execution_count": 1,
   "metadata": {},
   "outputs": [
    {
     "name": "stdout",
     "output_type": "stream",
     "text": [
      "result0:\n",
      " ['d', 'a', 'a', 'a', 'c', 'c']\n",
      "\n",
      "result1:\n",
      " ['15', '3466']\n",
      "\n",
      "result2:\n",
      " ['15', '34', '66']\n",
      "\n",
      "result3:\n",
      " [' s', 'en', 'd ', 'an', ' e', 'ma', 'il', ' f', 'ro', 'm ', 'th', 'is', '@e', 'ma', 'il', '.c', 'om', ' t', 'o ', 'te', 'st', '@u', 'se', 'r.', 'co', 'm ', ' t', 'im', 'es']\n",
      "\n",
      "result4:\n",
      " ['15 ', ' ', ' ', ' ', ' ', '@', '.', ' ', ' ', '@', '.', ' 3466 ', '.']\n",
      "\n",
      "result5:\n",
      " ['send', 'an', 'email', 'from', 'this', 'email', 'com', 'to', 'test', 'user', 'com', 'times']\n",
      "\n",
      "result6:\n",
      " [' ', ' ', ' ', ' ', ' ', ' ', ' ', ' ', ' ']\n",
      "\n",
      "result7:\n",
      " ['15', 'send', 'an', 'email', 'from', 'this@email.com', 'to', 'test@user.com', '3466', 'times.']\n",
      "\n",
      "result8:\n",
      " ['this@email.com', 'test@user.com']\n",
      "\n"
     ]
    }
   ],
   "source": [
    "import re\n",
    "my_string='15 send an email from this@email.com to test@user.com 3466 times.'\n",
    "\n",
    "result0 = re.findall('[abcd]', my_string)\n",
    "print('result0:\\n',result0,end='\\n\\n')\n",
    "\n",
    "result1 = re.findall('[0-9]+', my_string) #可以尝试各类符号出来不一样的东西\n",
    "print('result1:\\n',result1,end='\\n\\n')\n",
    "\n",
    "result2 = re.findall('[0-9].', my_string) #可以尝试各类符号出来不一样的东西\n",
    "print('result2:\\n',result2,end='\\n\\n')\n",
    "\n",
    "result3 = re.findall('[^0-9].', my_string) #可以尝试各类符号出来不一样的东西\n",
    "print('result3:\\n',result3,end='\\n\\n')\n",
    "\n",
    "result4 = re.findall('[^a-z]+', my_string) #可以尝试各类符号出来不一样的东西\n",
    "print('result4:\\n',result4,end='\\n\\n')\n",
    "\n",
    "result5 = re.findall('[a-z]+', my_string) #可以尝试各类符号出来不一样的东西\n",
    "print('result5:\\n',result5,end='\\n\\n')\n",
    "\n",
    "result6 = re.findall('\\s+', my_string) #可以尝试各类符号出来不一样的东西\n",
    "print('result6:\\n',result6,end='\\n\\n')\n",
    "\n",
    "result7 = re.findall('\\S+', my_string) #可以尝试各类符号出来不一样的东西\n",
    "print('result7:\\n',result7,end='\\n\\n')\n",
    "\n",
    "result8 = re.findall('\\S+@\\S+', my_string) #可以尝试各类符号出来不一样的东西\n",
    "print('result8:\\n',result8,end='\\n\\n')"
   ]
  },
  {
   "cell_type": "markdown",
   "metadata": {},
   "source": [
    "### 一个str的 compile用法"
   ]
  },
  {
   "cell_type": "code",
   "execution_count": 86,
   "metadata": {},
   "outputs": [
    {
     "data": {
      "text/plain": [
       "['row', 'fox', 'dog']"
      ]
     },
     "execution_count": 86,
     "metadata": {},
     "output_type": "execute_result"
    }
   ],
   "source": [
    "import re\n",
    "str = 'The quick brown fox jumps over the lazy dog'\n",
    "pttn = re.compile(r'\\wo\\w')\n",
    "re.findall(pttn, str)"
   ]
  },
  {
   "cell_type": "markdown",
   "metadata": {},
   "source": [
    "| 排列 |         原子与操作符优先级      |（从高到低）|\n",
    "|---|-----------------------------------|------------------------|\n",
    "| 1 | 转义符号 (Escaping Symbol)               | `\\` |\n",
    "| 2 | 分组、捕获 (Grouping or Capturing)                          | `(...)` `(?:...)` `(?=...)` `(?!...)` `(?<=...)` `(?<!...)`     |\n",
    "| 3 | 数量 (Quantifiers)      | `a*` `a+` `a?` `a{n, m}` |\n",
    "| 4 | 序列与定位（Sequence and Anchor）| `abc` `^` `$` `\\b` `\\B`               |\n",
    "| 5 | 或（Alternation）| <code>a&#124;b&#124;c</code>                   |\n",
    "| 6 | 原子 (Atoms)                 | `a` `[^abc]` `\\t` `\\r` `\\n` `\\d` `\\D` `\\s` `\\S` `\\w` `\\W` `.` |\n"
   ]
  },
  {
   "cell_type": "markdown",
   "metadata": {},
   "source": [
    "### 开头+中间随机内容正则\n",
    "标示集合原子，使用方括号 `[]`。`[abc]` 的意思是说，“`a` or `b` or `c`”，即，`abc` 中的任意一个字符。\n",
    "\n",
    "比如，[`beg[iau]n`](https://regexper.com#beg[iau]n) 能够代表 `begin`、`began`，以及 `begun`。"
   ]
  },
  {
   "cell_type": "code",
   "execution_count": 2,
   "metadata": {
    "scrolled": true
   },
   "outputs": [
    {
     "data": {
      "text/plain": [
       "['begin', 'began', 'begun', 'begin', 'begsn']"
      ]
     },
     "execution_count": 2,
     "metadata": {},
     "output_type": "execute_result"
    }
   ],
   "source": [
    "import re\n",
    "\n",
    "str = 'begin began begun bigins begining begsn'\n",
    "pttn = r'beg[iaus]n'\n",
    "re.findall(pttn, str)"
   ]
  },
  {
   "cell_type": "markdown",
   "metadata": {},
   "source": [
    "## 正则表达式在shakespeare文档应用案例\n"
   ]
  },
  {
   "cell_type": "markdown",
   "metadata": {},
   "source": [
    "### 打开文档,找A开头的句子"
   ]
  },
  {
   "cell_type": "code",
   "execution_count": 77,
   "metadata": {},
   "outputs": [
    {
     "name": "stdout",
     "output_type": "stream",
     "text": [
      "Act 2, Scene 2\n",
      "Arise, fair sun, and kill the envious moon,\n",
      "And none but fools do wear it; cast it off.\n",
      "As daylight doth a lamp; her eyes in heaven\n",
      "Ay me!\n",
      "As glorious to this night, being o'er my head\n",
      "As is a winged messenger of heaven\n",
      "And sails upon the bosom of the air.\n",
      "And I'll no longer be a Capulet.\n",
      "And for that name which is no part of thee\n",
      "Art thou not Romeo and a Montague?\n",
      "And the place death, considering who thou art,\n",
      "And what love can do that dares love attempt;\n",
      "Alack, there lies more peril in thine eye\n",
      "And I am proof against their enmity.\n",
      "And but thou love me, let them find me here:\n",
      "As that vast shore wash'd with the farthest sea,\n",
      "And I will take thy word: yet if thou swear'st,\n",
      "And therefore thou mayst think my 'havior light:\n",
      "And not impute this yielding to light love,\n",
      "And I'll believe thee.\n",
      "And yet I would it were to give again.\n",
      "And yet I wish but for the thing I have:\n",
      "Anon, good nurse! Sweet Montague, be true.\n",
      "And all my fortunes at thy foot I'll lay\n",
      "And follow thee my lord throughout the world.\n",
      "A thousand times good night!\n",
      "A thousand times the worse, to want thy light.\n",
      "And make her airy tongue more hoarse than mine,\n",
      "At what o'clock to-morrow\n",
      "At the hour of nine.\n",
      "And I'll still stay, to have thee still forget,\n",
      "And yet no further than a wanton's bird;\n",
      "And with a silk thread plucks it back again,\n"
     ]
    }
   ],
   "source": [
    "text= open ('shakespeare.txt')\n",
    "for line in text:\n",
    "#     print(line)\n",
    "    line=line.rstrip()\n",
    "#   + 是匹配一个或多个\n",
    "    if re.search('^A.+$',line):\n",
    "        print(line)"
   ]
  },
  {
   "cell_type": "markdown",
   "metadata": {},
   "source": [
    "### 打开文档,找M开头的,中间有o的句子"
   ]
  },
  {
   "cell_type": "code",
   "execution_count": 59,
   "metadata": {},
   "outputs": [
    {
     "name": "stdout",
     "output_type": "stream",
     "text": [
      "My name, dear saint, is hateful to myself,\n",
      "My true love's passion: therefore pardon me,\n",
      "My bounty is as boundless as the sea,\n",
      "My love as deep; the more I give to thee,\n"
     ]
    }
   ],
   "source": [
    "text= open ('shakespeare.txt')\n",
    "for line in text:\n",
    "    line=line.rstrip()\n",
    "    if re.findall('^M.+o.+,$',line):\n",
    "        print(line)"
   ]
  },
  {
   "cell_type": "markdown",
   "metadata": {},
   "source": [
    "### 打开文档,找A开头的,中建有again的句子"
   ]
  },
  {
   "cell_type": "code",
   "execution_count": 60,
   "metadata": {},
   "outputs": [
    {
     "name": "stdout",
     "output_type": "stream",
     "text": [
      "And I am proof against their enmity.\n",
      "And yet I would it were to give again.\n",
      "And with a silk thread plucks it back again,\n"
     ]
    }
   ],
   "source": [
    "text= open ('shakespeare.txt')\n",
    "for line in text:\n",
    "    line=line.rstrip()\n",
    "    if re.search('^A.+again.+$',line):\n",
    "        print(line)"
   ]
  },
  {
   "cell_type": "markdown",
   "metadata": {},
   "source": [
    "### 打开文档,找A-Z开头的,长3-8个长度的内容\n",
    "#### 但这样写只能找到全部大写的,小写的找不到"
   ]
  },
  {
   "cell_type": "code",
   "execution_count": 105,
   "metadata": {},
   "outputs": [
    {
     "name": "stdout",
     "output_type": "stream",
     "text": [
      "ROMEO\n",
      "JULIET\n",
      "ROMEO\n",
      "JULIET\n",
      "ROMEO\n",
      "JULIET\n",
      "ROMEO\n",
      "JULIET\n",
      "ROMEO\n",
      "JULIET\n",
      "ROMEO\n",
      "JULIET\n",
      "ROMEO\n",
      "JULIET\n",
      "ROMEO\n",
      "JULIET\n",
      "ROMEO\n",
      "JULIET\n",
      "ROMEO\n",
      "JULIET\n",
      "ROMEO\n",
      "JULIET\n",
      "ROMEO\n",
      "JULIET\n",
      "ROMEO\n",
      "JULIET\n",
      "ROMEO\n",
      "JULIET\n",
      "ROMEO\n",
      "JULIET\n",
      "ROMEO\n",
      "JULIET\n",
      "ROMEO\n",
      "JULIET\n",
      "JULIET\n",
      "JULIET\n",
      "ROMEO\n",
      "JULIET\n",
      "ROMEO\n",
      "JULIET\n",
      "ROMEO\n",
      "JULIET\n",
      "ROMEO\n",
      "JULIET\n",
      "ROMEO\n",
      "JULIET\n",
      "ROMEO\n",
      "JULIET\n",
      "ROMEO\n",
      "JULIET\n",
      "ROMEO\n",
      "JULIET\n",
      "ROMEO\n",
      "EXIT\n",
      "AAA\n",
      "ABC\n",
      "BCD\n",
      "CCC\n",
      "FSDDF\n",
      "GGDGDG\n"
     ]
    }
   ],
   "source": [
    "text= open ('shakespeare.txt')\n",
    "for line in text:\n",
    "    line=line.rstrip()\n",
    "    if re.search('^[A-Z]{3,8}$',line):\n",
    "        print(line)"
   ]
  },
  {
   "cell_type": "markdown",
   "metadata": {},
   "source": [
    "#### 这样写能找到全部大小写的\n",
    "条件写在前边的中括号中"
   ]
  },
  {
   "cell_type": "code",
   "execution_count": 109,
   "metadata": {},
   "outputs": [
    {
     "name": "stdout",
     "output_type": "stream",
     "text": [
      "99\n",
      "3242\n",
      "T800\n",
      "ROMEO\n",
      "JULIET\n",
      "ROMEO\n",
      "JULIET\n",
      "ROMEO\n",
      "JULIET\n",
      "ROMEO\n",
      "JULIET\n",
      "ROMEO\n",
      "JULIET\n",
      "ROMEO\n",
      "JULIET\n",
      "ROMEO\n",
      "JULIET\n",
      "ROMEO\n",
      "JULIET\n",
      "ROMEO\n",
      "JULIET\n",
      "ROMEO\n",
      "JULIET\n",
      "ROMEO\n",
      "JULIET\n",
      "ROMEO\n",
      "JULIET\n",
      "ROMEO\n",
      "JULIET\n",
      "ROMEO\n",
      "JULIET\n",
      "ROMEO\n",
      "JULIET\n",
      "ROMEO\n",
      "JULIET\n",
      "ROMEO\n",
      "JULIET\n",
      "Nurse\n",
      "JULIET\n",
      "Nurse\n",
      "JULIET\n",
      "ROMEO\n",
      "JULIET\n",
      "ROMEO\n",
      "Retiring\n",
      "JULIET\n",
      "ROMEO\n",
      "JULIET\n",
      "ROMEO\n",
      "JULIET\n",
      "ROMEO\n",
      "JULIET\n",
      "ROMEO\n",
      "JULIET\n",
      "ROMEO\n",
      "JULIET\n",
      "ROMEO\n",
      "JULIET\n",
      "ROMEO\n",
      "Exit\n",
      "Exit\n",
      "EXIT\n",
      "AAA\n",
      "ABC\n",
      "Abc\n",
      "BCD\n",
      "CCC\n",
      "FSDDF\n",
      "GGDGDG\n"
     ]
    }
   ],
   "source": [
    "text= open ('shakespeare.txt')\n",
    "for line in text:\n",
    "    line=line.rstrip()\n",
    "    if re.search('^[A-Z,a-z,0-9]{1,8}$',line):\n",
    "        print(line)"
   ]
  },
  {
   "cell_type": "code",
   "execution_count": null,
   "metadata": {},
   "outputs": [],
   "source": []
  }
 ],
 "metadata": {
  "kernelspec": {
   "display_name": "Python 3",
   "language": "python",
   "name": "python3"
  },
  "language_info": {
   "codemirror_mode": {
    "name": "ipython",
    "version": 3
   },
   "file_extension": ".py",
   "mimetype": "text/x-python",
   "name": "python",
   "nbconvert_exporter": "python",
   "pygments_lexer": "ipython3",
   "version": "3.7.4"
  },
  "toc": {
   "base_numbering": 1,
   "nav_menu": {},
   "number_sections": true,
   "sideBar": true,
   "skip_h1_title": false,
   "title_cell": "Table of Contents",
   "title_sidebar": "Contents",
   "toc_cell": false,
   "toc_position": {
    "height": "calc(100% - 180px)",
    "left": "10px",
    "top": "150px",
    "width": "165.4px"
   },
   "toc_section_display": true,
   "toc_window_display": true
  }
 },
 "nbformat": 4,
 "nbformat_minor": 2
}
