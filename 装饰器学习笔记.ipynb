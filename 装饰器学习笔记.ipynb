{
 "cells": [
  {
   "cell_type": "markdown",
   "metadata": {},
   "source": [
    "# **备注:此文档第一章\\第二章,我第一遍整理完并没有理解**\n"
   ]
  },
  {
   "cell_type": "markdown",
   "metadata": {},
   "source": [
    "# 装饰器是什么?\n",
    "\n",
    "装饰器是程序开发中经常用到的一个功能,用好了装饰器,开发效率如虎添翼,\n",
    "\n",
    "所以这也是Python面试中必问的问题.\n",
    "\n",
    "但对于好多初次接触这个知识的人来讲,这个功能有点绕,自学时直接绕过去,\n",
    "\n",
    "然后面试问道了就挂了,因为装饰器是程序开发的基础知识,\n",
    "\n",
    "这个都不会,别跟人家说你会Python\n",
    "看下面的内容,保证我要学会装饰器."
   ]
  },
  {
   "cell_type": "markdown",
   "metadata": {},
   "source": [
    "## 函数重名的问题"
   ]
  },
  {
   "cell_type": "code",
   "execution_count": 1,
   "metadata": {},
   "outputs": [
    {
     "name": "stdout",
     "output_type": "stream",
     "text": [
      "----2----\n"
     ]
    }
   ],
   "source": [
    "def test1():\n",
    "    print('----1----')\n",
    "\n",
    "def test1():\n",
    "    print('----2----')\n",
    "\n",
    "test1()  \n",
    "\n",
    "#这里打印 ----2---- 因为全部加载了缓存后,test1现在指向了下面为2的这个函数"
   ]
  },
  {
   "cell_type": "markdown",
   "metadata": {},
   "source": [
    "> ###第一波###\n"
   ]
  },
  {
   "cell_type": "code",
   "execution_count": 2,
   "metadata": {},
   "outputs": [
    {
     "name": "stdout",
     "output_type": "stream",
     "text": [
      "foo\n"
     ]
    }
   ],
   "source": [
    "def foo():\n",
    "    print('foo')\n",
    "\n",
    "foo     #表示是函数\n",
    "foo()   #表示执行函数"
   ]
  },
  {
   "cell_type": "markdown",
   "metadata": {},
   "source": [
    "> ###第二波###"
   ]
  },
  {
   "cell_type": "code",
   "execution_count": 11,
   "metadata": {},
   "outputs": [
    {
     "name": "stdout",
     "output_type": "stream",
     "text": [
      "foo\n"
     ]
    }
   ],
   "source": [
    "def foo():\n",
    "    print('foo')\n",
    "\n",
    "foo = lambda x:x+1  #这个运行时候报错,因为没定义X\n",
    "\n",
    "foo() #执行下面的lambda表达式,而不在是原来的foo函数,因为foo这个名字被重新指向了另外一个匿名数"
   ]
  },
  {
   "cell_type": "code",
   "execution_count": 15,
   "metadata": {},
   "outputs": [
    {
     "name": "stdout",
     "output_type": "stream",
     "text": [
      "----正在验证----\n",
      "----f1----\n"
     ]
    }
   ],
   "source": [
    "def w1(func):\n",
    "    def inner():\n",
    "        print('----正在验证----')\n",
    "        func()\n",
    "    return inner\n",
    "\n",
    "def f1():\n",
    "    print('----f1----')\n",
    "\n",
    "def f2():\n",
    "    print('----f2----')\n",
    "\n",
    "f1 = w1(f1) #把f1传递给func func指向了f1原来的那个函数 w1反回inner这个函数的引用 f1指向了这个引用\n",
    "f1() #f1指向了inner这个函数的地址 f1()现在调用的就是inner这个函数"
   ]
  },
  {
   "cell_type": "markdown",
   "metadata": {},
   "source": [
    "## 上述案例如果加上装饰器"
   ]
  },
  {
   "cell_type": "code",
   "execution_count": 22,
   "metadata": {},
   "outputs": [
    {
     "name": "stdout",
     "output_type": "stream",
     "text": [
      "----正在验证----\n",
      "----f1----\n",
      "----正在验证----\n",
      "----f2----\n"
     ]
    }
   ],
   "source": [
    "def w1(func):\n",
    "    def inner():\n",
    "        print('----正在验证----')\n",
    "        if True:\n",
    "            func()\n",
    "        else:\n",
    "            print(\"没有权限\")\n",
    "    return inner\n",
    "\n",
    "@w1  #这里的@w1 <==> f1 = w1(f1)\n",
    "def f1():\n",
    "    print('----f1----')\n",
    "\n",
    "@w1\n",
    "def f2():\n",
    "    print('----f2----')\n",
    "\n",
    "\n",
    "#f1 = w1(f1) #把f1传递给func func指向了f1原来的那个函数 w1反回inner这个函数的引用 f1指向了这个引用\n",
    "\n",
    "#f1() #f1指向了inner这个函数的地址 f1()现在调用的就是inner这个函数\n",
    "\n",
    "f1()\n",
    "f2()\n"
   ]
  },
  {
   "cell_type": "markdown",
   "metadata": {},
   "source": [
    "## 多个装饰器\n",
    "有点儿晕,为什么是这么个顺序呢"
   ]
  },
  {
   "cell_type": "code",
   "execution_count": 34,
   "metadata": {},
   "outputs": [
    {
     "name": "stdout",
     "output_type": "stream",
     "text": [
      "----1----\n",
      "----1----\n",
      "----2----\n",
      "----3----\n",
      "<b><b><i>hello world-3</i></b></b>\n"
     ]
    }
   ],
   "source": [
    "#定义函数:完成包裹数据\n",
    "def makeBold(fn):\n",
    "    def wrapped():\n",
    "        print('----1----')\n",
    "        return \"<b>\"+fn()+\"</b>\"\n",
    "    return wrapped\n",
    "\n",
    "\n",
    "#定义函数:完成包裹数据\n",
    "def makeItalic(fn):\n",
    "    def wrapped():\n",
    "        print(\"----2----\")\n",
    "        return \"<i>\"+fn()+\"</i>\"\n",
    "    return wrapped\n",
    "\n",
    "@makeBold #@makeBold <====> test3 = makeBold(test3)   再封装这个  因为它下面没有函数调用\n",
    "@makeBold\n",
    "@makeItalic #@makeItalic <===> test3 = makeItalic(test3)  先封装这个\n",
    "def test3():#这个画图就知道了\n",
    "    print(\"----3----\")\n",
    "    return \"hello world-3\"\n",
    "\n",
    "result = test3()\n",
    "print(result)"
   ]
  },
  {
   "cell_type": "markdown",
   "metadata": {},
   "source": [
    "# 装饰器什么时候进行装饰\n",
    "## 单个装饰器"
   ]
  },
  {
   "cell_type": "code",
   "execution_count": 35,
   "metadata": {},
   "outputs": [
    {
     "name": "stdout",
     "output_type": "stream",
     "text": [
      "----正在验证----\n",
      "----f1----\n"
     ]
    }
   ],
   "source": [
    "def w1(func):\n",
    "    def inner():\n",
    "        print('----正在验证----')\n",
    "        func()\n",
    "    return inner\n",
    "\n",
    "#只要python解释器执行到了这个代码(@w1),那么就会自动的进行装饰,而不是等到调用的时候才装饰的\n",
    "@w1     # @w1 <==> f1=w1(f1)\n",
    "def f1():\n",
    "    print('----f1----')\n",
    "\n",
    "#在调用f1之前,已经进行装饰了\n",
    "f1() "
   ]
  },
  {
   "cell_type": "markdown",
   "metadata": {},
   "source": [
    "## 多个装饰器"
   ]
  },
  {
   "cell_type": "code",
   "execution_count": 36,
   "metadata": {},
   "outputs": [
    {
     "name": "stdout",
     "output_type": "stream",
     "text": [
      "----正在验证2----\n",
      "----正在验证1----\n",
      "----正在获取权限1----\n",
      "----正在获取权限2----\n",
      "----f1----\n"
     ]
    }
   ],
   "source": [
    "def w1(func):\n",
    "    print(\"----正在验证1----\")\n",
    "    def inner():\n",
    "        print(\"----正在获取权限1----\")\n",
    "        func()\n",
    "    return inner\n",
    "\n",
    "def w2(func):\n",
    "    print(\"----正在验证2----\")\n",
    "    def inner():\n",
    "        print(\"----正在获取权限2----\")\n",
    "        func()\n",
    "    return inner\n",
    "\n",
    "\n",
    "# 只要python解释器执行到了这个代码,那么就会自动的进行装饰,而不是等到调用的时候才装饰\n",
    "@w1\n",
    "@w2     #装饰是从下往上,调用是从上往下  执行结果为 ----正在验证2----,--正在1---,---获取1--,---获取2---,---f1---\n",
    "def f1():\n",
    "    print(\"----f1----\")\n",
    "\n",
    "#在调用f1之前,已经进行装饰了\n",
    "f1()"
   ]
  },
  {
   "cell_type": "markdown",
   "metadata": {},
   "source": [
    "## 使用装饰器对无参数的函数进行装饰"
   ]
  },
  {
   "cell_type": "code",
   "execution_count": 37,
   "metadata": {},
   "outputs": [
    {
     "name": "stdout",
     "output_type": "stream",
     "text": [
      "----func----1----\n",
      "----func----2----\n",
      "----func_in----1----\n",
      "----test----\n",
      "----func_in----2----\n"
     ]
    }
   ],
   "source": [
    "def func(functionName):\n",
    "    print(\"----func----1----\")\n",
    "    def func_in():\n",
    "        print(\"----func_in----1----\")\n",
    "        functionName()\n",
    "        print(\"----func_in----2----\")\n",
    "\n",
    "    print(\"----func----2----\")\n",
    "    return func_in\n",
    "\n",
    "@func\n",
    "def test():\n",
    "    print(\"----test----\")\n",
    "\n",
    "#test = func(test)\n",
    "\n",
    "test()"
   ]
  },
  {
   "cell_type": "markdown",
   "metadata": {},
   "source": [
    "## 使用装饰器对有参数的函数进行装饰"
   ]
  },
  {
   "cell_type": "code",
   "execution_count": 49,
   "metadata": {},
   "outputs": [
    {
     "name": "stdout",
     "output_type": "stream",
     "text": [
      "----func----1----\n",
      "----func----2----\n",
      "----func_in----1----\n",
      "----test-a=11-b=22--\n",
      "----func_in----2----\n"
     ]
    }
   ],
   "source": [
    "def func(functionName):\n",
    "    print(\"----func----1----\")\n",
    "    def func_in(a,b): #如果a,b 没有定义,那么导致17行的调用个失败\n",
    "        print(\"----func_in----1----\")\n",
    "        functionName(a,b) #如果a,b 没有当做实参传递,那么会导致调用12行的的函数失败\n",
    "        print(\"----func_in----2----\")\n",
    "\n",
    "    print(\"----func----2----\")\n",
    "    return func_in\n",
    "\n",
    "@func\n",
    "def test(a,b):\n",
    "    print(\"----test-a=%d-b=%d--\"%(a,b))\n",
    "\n",
    "# test = func(test)\n",
    "\n",
    "test(11,22)"
   ]
  },
  {
   "cell_type": "markdown",
   "metadata": {},
   "source": [
    "## 使用装饰器对不定长参数的函数进行装饰"
   ]
  },
  {
   "cell_type": "code",
   "execution_count": 50,
   "metadata": {},
   "outputs": [
    {
     "name": "stdout",
     "output_type": "stream",
     "text": [
      "----func----1----\n",
      "----func----2----\n",
      "----func----1----\n",
      "----func----2----\n",
      "----func_in----1----\n",
      "----test-a=11-b=22-c=33-\n",
      "----func_in----2----\n",
      "\n",
      "----func_in----1----\n",
      "----test-a=44-b=55-c=66-d=77\n",
      "----func_in----2----\n"
     ]
    }
   ],
   "source": [
    "def func(functionName):\n",
    "    print(\"----func----1----\")\n",
    "    def func_in(*args,**kwargs): #如果*args,**kwargs 没有定义,那么导致19,21行的调用个失败\n",
    "        print(\"----func_in----1----\")\n",
    "        functionName(*args,**kwargs) #如果args,kwargs会报错,因为没有解包  *args,**kwargs这是解包\n",
    "        print(\"----func_in----2----\")#没有当做实参传递,那么会导致调用12,16行的的函数失败\n",
    "\n",
    "    print(\"----func----2----\")\n",
    "    return func_in\n",
    "\n",
    "@func\n",
    "def test(a,b,c):\n",
    "    print(\"----test-a=%d-b=%d-c=%d-\"%(a,b,c))\n",
    "\n",
    "@func\n",
    "def test2(a,b,c,d):\n",
    "    print(\"----test-a=%d-b=%d-c=%d-d=%d\"%(a,b,c,d))\n",
    "\n",
    "test(11,22,33)\n",
    "print('')\n",
    "\n",
    "test2(44,55,66,77)"
   ]
  },
  {
   "cell_type": "markdown",
   "metadata": {},
   "source": [
    "## 使用装饰器对有返回值的函数进行装饰"
   ]
  },
  {
   "cell_type": "code",
   "execution_count": 52,
   "metadata": {},
   "outputs": [
    {
     "name": "stdout",
     "output_type": "stream",
     "text": [
      "----func----1----\n",
      "----func----2----\n",
      "----func_in----1----\n",
      "----test----\n",
      "----func_in----2----\n",
      "test return value is haha\n"
     ]
    }
   ],
   "source": [
    "def func(functionName):\n",
    "    print(\"----func----1----\")\n",
    "    def func_in():\n",
    "        print(\"----func_in----1----\")\n",
    "        ret = functionName() #保存反回来的haha\n",
    "        print(\"----func_in----2----\")\n",
    "        return ret #把haha反回到16行的调用\n",
    "    print(\"----func----2----\")\n",
    "    return func_in\n",
    "\n",
    "@func\n",
    "def test():\n",
    "    print(\"----test----\")\n",
    "    return \"haha\"\n",
    "\n",
    "ret = test()\n",
    "print(\"test return value is %s\"%(ret))\n"
   ]
  },
  {
   "cell_type": "markdown",
   "metadata": {},
   "source": [
    "## 使用通用装饰器完成对函数进行装饰"
   ]
  },
  {
   "cell_type": "code",
   "execution_count": 54,
   "metadata": {},
   "outputs": [
    {
     "name": "stdout",
     "output_type": "stream",
     "text": [
      "----正在记录中----\n",
      "----test----\n",
      "test return value is haha\n",
      "\n",
      "----正在记录中----\n",
      "----test2----\n",
      "test return value is None\n",
      "\n",
      "----正在记录中----\n",
      "----test3-a=11-b=22----\n"
     ]
    }
   ],
   "source": [
    "def func(functionName):\n",
    "    def func_in(*args,**kwargs):\n",
    "        print(\"----正在记录中----\")\n",
    "        ret = functionName(*args,**kwargs)\n",
    "        return ret\n",
    "    return func_in\n",
    "\n",
    "@func\n",
    "def test():\n",
    "    print(\"----test----\")\n",
    "    return \"haha\"\n",
    "\n",
    "@func\n",
    "def test2():\n",
    "    print(\"----test2----\")\n",
    "\n",
    "@func\n",
    "def test3(a,b):\n",
    "    print(\"----test3-a=%d-b=%d----\"%(a,b))\n",
    "\n",
    "\n",
    "ret = test()\n",
    "print(\"test return value is %s\"%(ret))\n",
    "print('')\n",
    "\n",
    "ret = test2()\n",
    "print(\"test return value is %s\"%(ret))\n",
    "print('')\n",
    "\n",
    "test3(11,22)"
   ]
  },
  {
   "cell_type": "markdown",
   "metadata": {},
   "source": [
    "## 带有参数的装饰器"
   ]
  },
  {
   "cell_type": "code",
   "execution_count": 45,
   "metadata": {},
   "outputs": [
    {
     "name": "stdout",
     "output_type": "stream",
     "text": [
      "----记录日志--args=heihei--\n",
      "----test----\n",
      "----test----\n",
      "----记录日志--args=haha--\n",
      "----test2----\n"
     ]
    }
   ],
   "source": [
    "def func_args(args):\n",
    "    def func(functionName):\n",
    "        def func_in():\n",
    "            print(\"----记录日志--args=%s--\"%args)\n",
    "            if args == \"heihei\":\n",
    "                functionName()\n",
    "                functionName()\n",
    "            else:\n",
    "                functionName()\n",
    "        return func_in\n",
    "    return func\n",
    "\n",
    "#1.先执行func_arg(\"heihei\")函数,这个函数return 的结果是func这个函数的引用\n",
    "#2.@func\n",
    "#3.使用@func对test进行装饰\n",
    "@func_args(\"heihei\")\n",
    "def test():\n",
    "    print(\"----test----\")\n",
    "\n",
    "#带有参数的装饰器,能够起到在运行时,有不同的功能\n",
    "@func_args(\"haha\")\n",
    "def test2():\n",
    "    print(\"----test2----\")\n",
    "\n",
    "test()\n",
    "test2()"
   ]
  },
  {
   "cell_type": "markdown",
   "metadata": {},
   "source": [
    "# 第三章\n",
    "## 演示顺序\n",
    "\n",
    "示例1: 使用语法糖@来装饰函数，相当于“myfunc = deco(myfunc)”\n",
    "但发现新函数只在第一次被调用，且原函数多调用了一次"
   ]
  },
  {
   "cell_type": "code",
   "execution_count": 58,
   "metadata": {},
   "outputs": [
    {
     "name": "stdout",
     "output_type": "stream",
     "text": [
      "before myfunc() called.\n",
      " myfunc() called.\n",
      "  after myfunc() called.\n",
      " myfunc() called.\n"
     ]
    }
   ],
   "source": [
    "def deco(func):\n",
    "    print(\"before myfunc() called.\")\n",
    "    func()\n",
    "    print(\"  after myfunc() called.\")\n",
    "    return func\n",
    " \n",
    "@deco\n",
    "def myfunc():\n",
    "    print(\" myfunc() called.\")\n",
    " \n",
    "myfunc()"
   ]
  },
  {
   "cell_type": "markdown",
   "metadata": {},
   "source": [
    "这是一个最简单的装饰器的例子，但是这里有一个问题，就是当我们两次调用myfunc()的时候，发现装饰器函数只被调用了一次。为什么会这样呢？要解释这个就要给出破解装饰器的关键钥匙了。\n",
    "\n",
    "**这里@deco这一句，和myfunc = deco(myfunc)其实是完全等价的，只不过是换了一种写法而已**\n",
    "\n",
    "一定要记住上面这句！！！！\n",
    "\n",
    "好了，从现在开始，只需要做替换操作就可以了。\n",
    "\n",
    "将@deco 替换为 myfunc = deco(myfunc)\n",
    "\n",
    "程序首先调用deco(myfunc)，得到的返回结果赋值给了myfunc （注意：在Python中函数名只是个指向函数首地址的函数指针而已）\n",
    "\n",
    "而deco(myfunc)的返回值就是函数myfunc()的地址\n",
    "\n",
    "这样其实myfunc 没有变化，也就是说，最后的两次myfunc()函数调用，其实都没有执行到deco()。\n",
    "\n",
    "有同学就问了，明明打印了deco()函数里面的内容啊，怎么说没有调用到呢。这位同学一看就是没有注意听讲，那一次打印是在@deco 这一句被执行的。大家亲自动手试一下就会发现” myfunc() called.” 这句打印输出了三次。\n",
    "\n",
    "多的那次就是@deco这里输出的，因为@deco 等价于myfunc = deco(myfunc)，这里已经调用了deco()函数了。"
   ]
  },
  {
   "cell_type": "markdown",
   "metadata": {},
   "source": [
    "## 确保装饰器被调用\n",
    "示例2: 使用内嵌包装函数来确保每次新函数都被调用，\n",
    "内嵌包装函数的形参和返回值与原函数相同，装饰函数返回内嵌包装函数对象.\n",
    "\n",
    "这里其实不需要我解释了，还是按照第一步中的方法做替换就可以了。还是啰嗦几句吧。。\n",
    "\n",
    "@deco 替换为 myfunc = deco(myfunc)\n",
    "\n",
    "程序首先调用deco(myfunc)，得到的返回结果赋值给了myfunc ，\n",
    "\n",
    "这样myfunc 就变成了指向函数_deco()的指针\n",
    "\n",
    "以后的myfunc()，其实是调用_deco()"
   ]
  },
  {
   "cell_type": "code",
   "execution_count": 65,
   "metadata": {},
   "outputs": [
    {
     "name": "stdout",
     "output_type": "stream",
     "text": [
      "before myfunc() called.\n",
      " myfunc() called.\n",
      "  after myfunc() called.\n",
      "\n",
      "before myfunc() called.\n",
      " myfunc() called.\n",
      "  after myfunc() called.\n"
     ]
    }
   ],
   "source": [
    "def deco(func):\n",
    "    def _deco():\n",
    "        print(\"before myfunc() called.\")\n",
    "        func()\n",
    "        print(\"  after myfunc() called.\")\n",
    "        # 不需要返回func，实际上应返回原函数的返回值\n",
    "    return _deco\n",
    " \n",
    "@deco\n",
    "def myfunc():\n",
    "    print(\" myfunc() called.\")\n",
    "    return 'ok'\n",
    " \n",
    "myfunc()\n",
    "print('')\n",
    "myfunc()"
   ]
  },
  {
   "cell_type": "markdown",
   "metadata": {},
   "source": [
    "## 对带参数的函数进行装饰\n",
    "破案过程和第一步、第二步完全一致，不再重复了\n",
    "示例5: 对带参数的函数进行装饰，\n",
    "\n",
    "内嵌包装函数的形参和返回值与原函数相同，装饰函数返回内嵌包装函数对象'''"
   ]
  },
  {
   "cell_type": "code",
   "execution_count": 68,
   "metadata": {},
   "outputs": [
    {
     "name": "stdout",
     "output_type": "stream",
     "text": [
      "before myfunc() called.\n",
      " myfunc(1,2) called.\n",
      "  after myfunc() called. result: 3\n",
      "before myfunc() called.\n",
      " myfunc(3,4) called.\n",
      "  after myfunc() called. result: 7\n"
     ]
    },
    {
     "data": {
      "text/plain": [
       "7"
      ]
     },
     "execution_count": 68,
     "metadata": {},
     "output_type": "execute_result"
    }
   ],
   "source": [
    "def deco(func):\n",
    "    def _deco(a, b):\n",
    "        print(\"before myfunc() called.\")\n",
    "        ret = func(a, b)\n",
    "        print(\"  after myfunc() called. result: %s\" % ret)\n",
    "        return ret\n",
    "    return _deco\n",
    " \n",
    "@deco\n",
    "def myfunc(a, b):\n",
    "    print(\" myfunc(%s,%s) called.\" % (a, b))\n",
    "    return a + b\n",
    " \n",
    "myfunc(1, 2)\n",
    "myfunc(3, 4)"
   ]
  },
  {
   "cell_type": "markdown",
   "metadata": {},
   "source": [
    "## 让装饰器带参数\n",
    "示例7: 在示例4的基础上，让装饰器带参数，\n",
    "\n",
    "和上一示例相比在外层多了一层包装。\n",
    "\n",
    "装饰函数名实际上应更有意义些"
   ]
  },
  {
   "cell_type": "code",
   "execution_count": 71,
   "metadata": {},
   "outputs": [
    {
     "name": "stdout",
     "output_type": "stream",
     "text": [
      "before myfunc called [mymodule].\n",
      " myfunc() called.\n",
      "  after myfunc called [mymodule].\n",
      "\n",
      "before myfunc2 called [module2].\n",
      " myfunc2() called.\n",
      "  after myfunc2 called [module2].\n"
     ]
    }
   ],
   "source": [
    "def deco(arg):\n",
    "    def _deco(func):\n",
    "        def __deco():\n",
    "            print(\"before %s called [%s].\" % (func.__name__, arg))\n",
    "            func()\n",
    "            print(\"  after %s called [%s].\" % (func.__name__, arg))\n",
    "        return __deco\n",
    "    return _deco\n",
    " \n",
    "@deco(\"mymodule\")\n",
    "def myfunc():\n",
    "    print(\" myfunc() called.\")\n",
    " \n",
    "@deco(\"module2\")\n",
    "def myfunc2():\n",
    "    print(\" myfunc2() called.\")\n",
    " \n",
    "myfunc()\n",
    "print('')\n",
    "myfunc2()"
   ]
  },
  {
   "cell_type": "markdown",
   "metadata": {},
   "source": [
    "这种带参数的装饰器怎么解释呢。其实是一样的，还是我们的替换操作\n",
    "\n",
    "@deco(“mymodule”)替换为myfunc = deco(“mymodule”)(myfunc )\n",
    "\n",
    "注意啊，这里deco后面跟了两个括号。\n",
    "\n",
    "有同学要问了，这是什么意思？\n",
    "\n",
    "其实很简单，先执行deco(“mymodule”)，返回结果为_deco\n",
    "\n",
    "再执行_deco(myfunc)，得到的返回结果为__deco\n",
    "\n",
    "所以myfunc = __deco\n",
    "\n",
    "破案！"
   ]
  },
  {
   "cell_type": "code",
   "execution_count": null,
   "metadata": {},
   "outputs": [],
   "source": []
  }
 ],
 "metadata": {
  "kernelspec": {
   "display_name": "Python 3",
   "language": "python",
   "name": "python3"
  },
  "language_info": {
   "codemirror_mode": {
    "name": "ipython",
    "version": 3
   },
   "file_extension": ".py",
   "mimetype": "text/x-python",
   "name": "python",
   "nbconvert_exporter": "python",
   "pygments_lexer": "ipython3",
   "version": "3.7.4"
  },
  "toc": {
   "base_numbering": 1,
   "nav_menu": {},
   "number_sections": true,
   "sideBar": true,
   "skip_h1_title": false,
   "title_cell": "Table of Contents",
   "title_sidebar": "Contents",
   "toc_cell": false,
   "toc_position": {
    "height": "calc(100% - 180px)",
    "left": "10px",
    "top": "150px",
    "width": "165px"
   },
   "toc_section_display": true,
   "toc_window_display": true
  }
 },
 "nbformat": 4,
 "nbformat_minor": 2
}
